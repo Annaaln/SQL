{
 "cells": [
  {
   "cell_type": "markdown",
   "metadata": {
    "id": "zpftBeIIJ_2G"
   },
   "source": [
    "# Написание функций для работы с sqlite с использованием python"
   ]
  },
  {
   "cell_type": "code",
   "execution_count": 1,
   "metadata": {
    "id": "kQA9xoOcFqCI"
   },
   "outputs": [],
   "source": [
    "%load_ext sql\n",
    "%sql sqlite:///base.db"
   ]
  },
  {
   "cell_type": "code",
   "execution_count": 3,
   "metadata": {},
   "outputs": [],
   "source": [
    "%config SqlMagic.style = '_DEPRECATED_DEFAULT'"
   ]
  },
  {
   "cell_type": "code",
   "execution_count": 5,
   "metadata": {
    "id": "DEMlgympYrp4"
   },
   "outputs": [],
   "source": [
    "#список стран\n",
    "countries = [\"Afghanistan\", \"Albania\", \"Algeria\", \"Andorra\", \"Angola\", \"Anguilla\", \"Argentina\", \"Armenia\", \"Aruba\", \"Australia\", \"Austria\", \"Azerbaijan\", \"Bahamas\", \"Bahrain\", \"Bangladesh\",\n",
    "             \"Barbados\", \"Belarus\", \"Belgium\", \"Belize\", \"Benin\", \"Bermuda\", \"Bhutan\", \"Bolivia\", \"Bosnia and Herzegovina\", \"Botswana\", \"Brazil\", \"Bulgaria\", \"Burkina Faso\", \"Burundi\", \"Cambodia\",\n",
    "             \"Cameroon\", \"Canada\", \"Central African Republic\", \"Chad\", \"Chile\", \"China\", \"Colombia\", \"Comoros\", \"Congo\", \"Costa Rica\", \"Cote d'Ivoire\", \"Croatia\", \"Cuba\", \"Cyprus\", \"Czech Republic\",\n",
    "             \"Denmark\", \"Djibouti\", \"Dominica\", \"Dominican Republic\", \"Ecuador\", \"Egypt\", \"Eritrea\", \"Estonia\", \"Ethiopia\", \"Fiji\", \"Finland\", \"France\", \"Gabon\", \"Gambia\", \"Georgia\", \"Germany\", \"Ghana\",\n",
    "             \"Greece\", \"Greenland\", \"Grenada\", \"Guadeloupe\", \"Guam\", \"Guatemala\", \"Guinea\", \"Guinea-Bissau\", \"Guyana\", \"Haiti\", \"Honduras\", \"Hong Kong\", \"Hungary\", \"Iceland\", \"India\", \"Indonesia\", \"Iran\",\n",
    "             \"Iraq\", \"Ireland\", \"Isle of Man\", \"Israel\", \"Italy\", \"Jamaica\", \"Japan\", \"Jersey\", \"Jordan\", \"Kazakhstan\", \"Kenya\", \"Kiribati\", \"Kuwait\", \"Latvia\", \"Lebanon\", \"Lesotho\", \"Liberia\", \"Lithuania\",\n",
    "             \"Luxembourg\", \"Macao\", \"Macedonia\", \"Madagascar\", \"Malawi\", \"Malaysia\", \"Maldives\", \"Mali\", \"Malta\", \"Martinique\", \"Mauritania\", \"Mauritius\", \"Mayotte\", \"Mexico\", \"Micronesia\", \"Moldova\",\n",
    "             \"Monaco\", \"Mongolia\", \"Montenegro\", \"Montserrat\", \"Morocco\", \"Mozambique\", \"Myanmar\", \"Namibia\", \"Nauru\", \"Nepal\", \"Netherlands\", \"New Zealand\", \"Nicaragua\", \"Niger\", \"Nigeria\", \"Norway\", \"Oman\",\n",
    "             \"Pakistan\", \"Palau\", \"Palestinian Territory\", \"Panama\", \"Papua New Guinea\", \"Paraguay\", \"Peru\", \"Philippines\", \"Poland\", \"Portugal\", \"Puerto Rico\", \"Qatar\", \"Republic of Korea\", \"Romania\",\n",
    "             \"Russian Federation\", \"Rwanda\", \"Saudi Arabia\", \"Senegal\", \"Serbia\", \"Singapore\", \"Slovakia\", \"Slovenia\", \"Solomon Islands\", \"South Africa\", \"Spain\", \"Sudan\", \"Swaziland\", \"Sweden\", \"Switzerland\",\n",
    "             \"Syrian Arab Republic\", \"Tajikistan\", \"Tanzania\", \"Thailand\", \"Timor-Leste\", \"Togo\", \"Tokelau\", \"Tonga\", \"Tunisia\", \"Turkey\", \"Turkmenistan\", \"Tuvalu\", \"Uganda\", \"Ukraine\", \"United Arab Emirates\",\n",
    "             \"United Kingdom\", \"United States of America\", \"Uruguay\", \"Uzbekistan\", \"Vanuatu\", \"Venezuela\", \"Vietnam\", \"Yemen\", \"Zambia\", \"Zimbabwe\"]"
   ]
  },
  {
   "cell_type": "markdown",
   "metadata": {
    "id": "kymKsqPZJ3c7"
   },
   "source": [
    "Лабораторная посвящена базе данных, связанной со спортивными командами. Схема расположена на картинке ниже."
   ]
  },
  {
   "cell_type": "markdown",
   "metadata": {
    "id": "rkxvf9oGQhK2"
   },
   "source": [
    "## Схема\n",
    "![image.png](data:image/png;base64,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)\n",
    "\n",
    "Foundation - дата основания\n",
    "\n",
    "**Имя команды сделать unique**"
   ]
  },
  {
   "cell_type": "markdown",
   "metadata": {
    "id": "FAqf5PnQYrpz"
   },
   "source": [
    "# Задание 1\n",
    "Реализовать таблицы со связями по схеме выше. Добавьте несколько команд и матчей между ними (через INSERT)."
   ]
  },
  {
   "cell_type": "code",
   "execution_count": 7,
   "metadata": {
    "id": "ltBeyRUDYrp0"
   },
   "outputs": [
    {
     "name": "stdout",
     "output_type": "stream",
     "text": [
      " * sqlite:///base.db\n",
      "Done.\n",
      "Done.\n",
      "Done.\n",
      "Done.\n",
      "Done.\n",
      "Done.\n",
      "Done.\n"
     ]
    },
    {
     "data": {
      "text/plain": [
       "[]"
      ]
     },
     "execution_count": 7,
     "metadata": {},
     "output_type": "execute_result"
    }
   ],
   "source": [
    "%%sql\n",
    "Pragma foreign_keys=on;\n",
    "\n",
    "DROP TABLE if exists Players;\n",
    "DROP TABLE if exists Matches;\n",
    "DROP TABLE if exists Teams;\n",
    "\n",
    "CREATE TABLE Teams (\n",
    "    team_id integer NOT NULL Primary key,\n",
    "    team_name nvarchar(30) NOT NULL UNIQUE, \n",
    "    country nvarchar(30) NOT NULL, \n",
    "    foundation datetime NOT NULL\n",
    ");\n",
    "\n",
    "CREATE TABLE Players (\n",
    "    player_id integer NOT NULL Primary key,\n",
    "    player_name varchar(30) NOT NULL,\n",
    "    birthdate datetime,\n",
    "    country varchar(30),\n",
    "    teamID integer NOT NULL,\n",
    "    enrolled datetime NOT NULL, \n",
    "    retired datetime,\n",
    "    FOREIGN KEY (teamID) REFERENCES Teams(team_id)\n",
    ");\n",
    "\n",
    "CREATE TABLE Matches (\n",
    "    match_id integer NOT NULL Primary key,\n",
    "    date datetime NOT NULL,\n",
    "    team1 integer NOT NULL,\n",
    "    team2 integer NOT NULL,\n",
    "    score1 integer NOT NULL,\n",
    "    score2 integer NOT NULL,\n",
    "    FOREIGN KEY (team1) REFERENCES Teams(team_id),\n",
    "    FOREIGN KEY (team2) REFERENCES Teams(team_id)\n",
    ");"
   ]
  },
  {
   "cell_type": "code",
   "execution_count": 9,
   "metadata": {},
   "outputs": [
    {
     "name": "stdout",
     "output_type": "stream",
     "text": [
      " * sqlite:///base.db\n",
      "1 rows affected.\n",
      "1 rows affected.\n",
      "1 rows affected.\n"
     ]
    },
    {
     "data": {
      "text/plain": [
       "[]"
      ]
     },
     "execution_count": 9,
     "metadata": {},
     "output_type": "execute_result"
    }
   ],
   "source": [
    "%%sql\n",
    "\n",
    "INSERT INTO Teams (team_name, country, foundation) VALUES (\"A\", \"Denmark\", \"1999-03-03\");\n",
    "INSERT INTO Teams (team_name, country, foundation) VALUES (\"B\", \"Norway\", \"2001-04-05\");\n",
    "INSERT INTO Teams (team_name, country, foundation) VALUES (\"C\", \"Sweden\", \"1988-12-11\");"
   ]
  },
  {
   "cell_type": "code",
   "execution_count": 11,
   "metadata": {},
   "outputs": [
    {
     "name": "stdout",
     "output_type": "stream",
     "text": [
      " * sqlite:///base.db\n",
      "Done.\n"
     ]
    },
    {
     "data": {
      "text/html": [
       "<table>\n",
       "    <thead>\n",
       "        <tr>\n",
       "            <th>team_id</th>\n",
       "            <th>team_name</th>\n",
       "            <th>country</th>\n",
       "            <th>foundation</th>\n",
       "        </tr>\n",
       "    </thead>\n",
       "    <tbody>\n",
       "        <tr>\n",
       "            <td>1</td>\n",
       "            <td>A</td>\n",
       "            <td>Denmark</td>\n",
       "            <td>1999-03-03</td>\n",
       "        </tr>\n",
       "        <tr>\n",
       "            <td>2</td>\n",
       "            <td>B</td>\n",
       "            <td>Norway</td>\n",
       "            <td>2001-04-05</td>\n",
       "        </tr>\n",
       "        <tr>\n",
       "            <td>3</td>\n",
       "            <td>C</td>\n",
       "            <td>Sweden</td>\n",
       "            <td>1988-12-11</td>\n",
       "        </tr>\n",
       "    </tbody>\n",
       "</table>"
      ],
      "text/plain": [
       "[(1, 'A', 'Denmark', '1999-03-03'),\n",
       " (2, 'B', 'Norway', '2001-04-05'),\n",
       " (3, 'C', 'Sweden', '1988-12-11')]"
      ]
     },
     "execution_count": 11,
     "metadata": {},
     "output_type": "execute_result"
    }
   ],
   "source": [
    "%%sql\n",
    "select * from Teams;"
   ]
  },
  {
   "cell_type": "code",
   "execution_count": 13,
   "metadata": {},
   "outputs": [
    {
     "name": "stdout",
     "output_type": "stream",
     "text": [
      " * sqlite:///base.db\n",
      "1 rows affected.\n",
      "1 rows affected.\n",
      "1 rows affected.\n",
      "1 rows affected.\n"
     ]
    },
    {
     "data": {
      "text/plain": [
       "[]"
      ]
     },
     "execution_count": 13,
     "metadata": {},
     "output_type": "execute_result"
    }
   ],
   "source": [
    "%%sql\n",
    "INSERT INTO Matches (date, team1, team2, score1, score2) VALUES (\"2016-02-01\", 1, 2, 4, 2);\n",
    "INSERT INTO Matches (date, team1, team2, score1, score2) VALUES (\"2016-02-05\", 2, 3, 1, 1);\n",
    "INSERT INTO Matches (date, team1, team2, score1, score2) VALUES (\"2016-06-07\", 1, 3, 3, 5);\n",
    "INSERT INTO Matches (date, team1, team2, score1, score2) VALUES (\"2016-06-08\", 1, 2, 0, 2);"
   ]
  },
  {
   "cell_type": "code",
   "execution_count": 15,
   "metadata": {},
   "outputs": [
    {
     "name": "stdout",
     "output_type": "stream",
     "text": [
      " * sqlite:///base.db\n",
      "Done.\n"
     ]
    },
    {
     "data": {
      "text/html": [
       "<table>\n",
       "    <thead>\n",
       "        <tr>\n",
       "            <th>match_id</th>\n",
       "            <th>date</th>\n",
       "            <th>team1</th>\n",
       "            <th>team2</th>\n",
       "            <th>score1</th>\n",
       "            <th>score2</th>\n",
       "        </tr>\n",
       "    </thead>\n",
       "    <tbody>\n",
       "        <tr>\n",
       "            <td>1</td>\n",
       "            <td>2016-02-01</td>\n",
       "            <td>1</td>\n",
       "            <td>2</td>\n",
       "            <td>4</td>\n",
       "            <td>2</td>\n",
       "        </tr>\n",
       "        <tr>\n",
       "            <td>2</td>\n",
       "            <td>2016-02-05</td>\n",
       "            <td>2</td>\n",
       "            <td>3</td>\n",
       "            <td>1</td>\n",
       "            <td>1</td>\n",
       "        </tr>\n",
       "        <tr>\n",
       "            <td>3</td>\n",
       "            <td>2016-06-07</td>\n",
       "            <td>1</td>\n",
       "            <td>3</td>\n",
       "            <td>3</td>\n",
       "            <td>5</td>\n",
       "        </tr>\n",
       "        <tr>\n",
       "            <td>4</td>\n",
       "            <td>2016-06-08</td>\n",
       "            <td>1</td>\n",
       "            <td>2</td>\n",
       "            <td>0</td>\n",
       "            <td>2</td>\n",
       "        </tr>\n",
       "    </tbody>\n",
       "</table>"
      ],
      "text/plain": [
       "[(1, '2016-02-01', 1, 2, 4, 2),\n",
       " (2, '2016-02-05', 2, 3, 1, 1),\n",
       " (3, '2016-06-07', 1, 3, 3, 5),\n",
       " (4, '2016-06-08', 1, 2, 0, 2)]"
      ]
     },
     "execution_count": 15,
     "metadata": {},
     "output_type": "execute_result"
    }
   ],
   "source": [
    "%%sql\n",
    "select * from Matches;"
   ]
  },
  {
   "cell_type": "markdown",
   "metadata": {
    "id": "FyjLXgzNYrp3"
   },
   "source": [
    "# Задание 2\n",
    "\n",
    "Написать функцию, осуществляющую добавление нового игрока в таблицу игроков.\n",
    "\n",
    "На входе имя, дата рождения, страна, **имя команды**, дата перехода в команду, дата увольнения (необязательный параметр). Предусмотреть различные ошибки (такие как неверное название команды (игрока нельзя добавить, если его команды нет в таблице команд), возраст < 0 и т.п.)\n",
    "\n",
    "После написания функции необходимо добавить несколько игроков."
   ]
  },
  {
   "cell_type": "code",
   "execution_count": 17,
   "metadata": {
    "id": "2Tq9DuVSyXhq"
   },
   "outputs": [],
   "source": [
    "import sqlite3\n",
    "connection = sqlite3.connect('base.db')"
   ]
  },
  {
   "cell_type": "code",
   "execution_count": 19,
   "metadata": {},
   "outputs": [],
   "source": [
    "from datetime import datetime"
   ]
  },
  {
   "cell_type": "code",
   "execution_count": 21,
   "metadata": {},
   "outputs": [
    {
     "data": {
      "text/plain": [
       "sqlite3.Connection"
      ]
     },
     "execution_count": 21,
     "metadata": {},
     "output_type": "execute_result"
    }
   ],
   "source": [
    "type(connection)"
   ]
  },
  {
   "cell_type": "code",
   "execution_count": 23,
   "metadata": {},
   "outputs": [],
   "source": [
    "cur = connection.cursor()"
   ]
  },
  {
   "cell_type": "code",
   "execution_count": null,
   "metadata": {},
   "outputs": [],
   "source": [
    "#input data - connect, name, birthdate, country, team_name, enrolled, retired=\"\""
   ]
  },
  {
   "cell_type": "code",
   "execution_count": 25,
   "metadata": {},
   "outputs": [],
   "source": [
    "def check_country(country):\n",
    "    if country in countries:\n",
    "        return 1\n",
    "    return 0"
   ]
  },
  {
   "cell_type": "code",
   "execution_count": 27,
   "metadata": {},
   "outputs": [],
   "source": [
    "def get_teamID(team_name):\n",
    "    cur = connection.cursor()\n",
    "    cur.execute('''select team_id from Teams where team_name = ?''', (team_name))\n",
    "    try:\n",
    "        team_id = cur.fetchone()[0]\n",
    "        return team_id\n",
    "    except:\n",
    "        print('Team not found')\n",
    "        return 0"
   ]
  },
  {
   "cell_type": "code",
   "execution_count": 29,
   "metadata": {},
   "outputs": [],
   "source": [
    "def check_birthdate(enrolled, birthdate):\n",
    "    try:\n",
    "        date_enrolled = datetime.strptime(enrolled, '%Y-%m-%d')\n",
    "        date_birth = datetime.strptime(birthdate, '%Y-%m-%d')\n",
    "        datediff = date_enrolled.year - date_birth.year - ((date_enrolled.month, date_enrolled.day) < (date_birth.month, date_birth.day))\n",
    "        if datediff < 18:\n",
    "            return 0\n",
    "        return 1\n",
    "    except:\n",
    "        return 0\n",
    "    else:\n",
    "        print(\"No data found\")\n",
    "        return 0"
   ]
  },
  {
   "cell_type": "code",
   "execution_count": 31,
   "metadata": {},
   "outputs": [],
   "source": [
    "def check_retired(enrolled, retired):\n",
    "    if retired == \"\":\n",
    "        return 1\n",
    "    try:\n",
    "        date_enrolled = datetime.strptime(enrolled, '%Y-%m-%d')\n",
    "        date_retired = datetime.strptime(retired, '%Y-%m-%d')\n",
    "        datediff = date_retired.year - date_enrolled.year - ((date_retired.month, date_retired.day) < (date_enrolled.month, date_enrolled.day))\n",
    "        if datediff < 0:\n",
    "            return 0\n",
    "        return 1\n",
    "    except:\n",
    "        return 0\n",
    "    else:\n",
    "        print(\"No data found\")\n",
    "        return 0"
   ]
  },
  {
   "cell_type": "code",
   "execution_count": 33,
   "metadata": {},
   "outputs": [],
   "source": [
    "def insert_player(player_name, birthdate, country, team_name, enrolled, retired=\"\"):\n",
    "    teamID = get_teamID(team_name)\n",
    "    if check_country(country) == 0:\n",
    "        print('wrong country')\n",
    "        return 0\n",
    "    if check_birthdate(enrolled, birthdate) == 0:\n",
    "        print(\"Age is less 18\")\n",
    "        return 0\n",
    "    if check_retired(enrolled, retired) == 0:\n",
    "        print(\"retired less than enrolled\")\n",
    "        return 0\n",
    "    cur.execute('''\n",
    "        INSERT INTO Players(player_name, birthdate, country, teamID, enrolled, retired)\n",
    "        VALUES(?,?,?,?,?,?)''', (player_name,birthdate,country,teamID,enrolled,retired))\n",
    "    connection.commit()"
   ]
  },
  {
   "cell_type": "code",
   "execution_count": 35,
   "metadata": {},
   "outputs": [],
   "source": [
    "insert_player(\"Emil\", '1992-04-07', 'Norway', \"B\", '2010-09-09');\n",
    "insert_player(\"Peter\", '1982-04-07', 'Norway', \"B\", '2001-04-05', '2005-06-06');"
   ]
  },
  {
   "cell_type": "code",
   "execution_count": 37,
   "metadata": {
    "scrolled": true
   },
   "outputs": [
    {
     "name": "stdout",
     "output_type": "stream",
     "text": [
      " * sqlite:///base.db\n",
      "Done.\n"
     ]
    },
    {
     "data": {
      "text/html": [
       "<table>\n",
       "    <thead>\n",
       "        <tr>\n",
       "            <th>player_id</th>\n",
       "            <th>player_name</th>\n",
       "            <th>birthdate</th>\n",
       "            <th>country</th>\n",
       "            <th>teamID</th>\n",
       "            <th>enrolled</th>\n",
       "            <th>retired</th>\n",
       "        </tr>\n",
       "    </thead>\n",
       "    <tbody>\n",
       "        <tr>\n",
       "            <td>1</td>\n",
       "            <td>Emil</td>\n",
       "            <td>1992-04-07</td>\n",
       "            <td>Norway</td>\n",
       "            <td>2</td>\n",
       "            <td>2010-09-09</td>\n",
       "            <td></td>\n",
       "        </tr>\n",
       "        <tr>\n",
       "            <td>2</td>\n",
       "            <td>Peter</td>\n",
       "            <td>1982-04-07</td>\n",
       "            <td>Norway</td>\n",
       "            <td>2</td>\n",
       "            <td>2001-04-05</td>\n",
       "            <td>2005-06-06</td>\n",
       "        </tr>\n",
       "    </tbody>\n",
       "</table>"
      ],
      "text/plain": [
       "[(1, 'Emil', '1992-04-07', 'Norway', 2, '2010-09-09', ''),\n",
       " (2, 'Peter', '1982-04-07', 'Norway', 2, '2001-04-05', '2005-06-06')]"
      ]
     },
     "execution_count": 37,
     "metadata": {},
     "output_type": "execute_result"
    }
   ],
   "source": [
    "%%sql\n",
    "select * from Players;"
   ]
  },
  {
   "cell_type": "code",
   "execution_count": 39,
   "metadata": {},
   "outputs": [
    {
     "name": "stdout",
     "output_type": "stream",
     "text": [
      "retired less than enrolled\n",
      "Age is less 18\n",
      "wrong country\n"
     ]
    }
   ],
   "source": [
    "insert_player(\"Emil\", '1992-04-07', 'Norway', \"B\", '2010-09-09', '2000-09-09');\n",
    "insert_player(\"Peter\", '2025-04-07', 'Norway', \"B\", '2001-04-05', '2005-06-06');\n",
    "insert_player(\"Emil\", '1992-04-07', 'Norwy', \"B\", '2010-09-09');"
   ]
  },
  {
   "cell_type": "markdown",
   "metadata": {
    "id": "7bhElMQzwsAz"
   },
   "source": [
    "# Задание 3\n",
    "Написать функцию player_stat, которая получает на вход имя игрока и выдает количество побед, ничей и поражений этого игрока (учитывать, что до и после найма игрока успехи его команды не учитываются).\n",
    "Вывести статистику по игрокам."
   ]
  },
  {
   "cell_type": "code",
   "execution_count": 51,
   "metadata": {
    "id": "PByUp5RJe7d6"
   },
   "outputs": [],
   "source": [
    "def player_stat(player_name):\n",
    "    cur.execute('''select teamID from Players where player_name = ?''', (player_name, ))\n",
    "    player_team_id = cur.fetchone()[0]\n",
    "    if player_team_id is None:\n",
    "        print('No player with such name')\n",
    "        return \n",
    "    cur.execute('''select sum(case when(team1 = ? and score1 > score2) or (team2 = ? and score2 > score1)\n",
    "    then 1 else 0 end) as wins,\n",
    "    sum(case when(team1 = ? and score1 < score2) or (team2 = ? and score2 < score1)\n",
    "    then 1 else 0 end) as loses,\n",
    "    sum(case when(team1 = ? and score1 = score2) or (team2 = ? and score1 = score2) then 1 else 0 end) as draws\n",
    "    from Matches where team1 = ? or team2 = ?''', (player_team_id, player_team_id, player_team_id, player_team_id, player_team_id, player_team_id, player_team_id, player_team_id))\n",
    "\n",
    "    res = cur.fetchone()\n",
    "    wins, loses, draws = res if res else (0, 0,  0)\n",
    "    df = pd.DataFrame({'Loses': [loses], 'Draws': [draws], 'Wins': [wins]}, index=[player_name])\n",
    "    ax = df.plot.bar(rot=0)"
   ]
  },
  {
   "cell_type": "code",
   "execution_count": 45,
   "metadata": {},
   "outputs": [],
   "source": [
    "def player_stat1(player_name):\n",
    "    cur.execute('''select teamID from Players where player_name = ?''', (player_name, ))\n",
    "    player_team_id = cur.fetchone()[0]\n",
    "    if player_team_id is None:\n",
    "        print('No player with such name')\n",
    "        return \n",
    "    return player_team_id"
   ]
  },
  {
   "cell_type": "code",
   "execution_count": 57,
   "metadata": {
    "scrolled": true
   },
   "outputs": [
    {
     "data": {
      "image/png": "[encoded data removed]",
      "text/plain": [
       "<Figure size 640x480 with 1 Axes>"
      ]
     },
     "metadata": {},
     "output_type": "display_data"
    }
   ],
   "source": [
    "player_stat('Emil')"
   ]
  },
  {
   "cell_type": "code",
   "execution_count": 61,
   "metadata": {},
   "outputs": [],
   "source": [
    "insert_player(\"William\", '1995-04-07', 'Norway', \"A\", '2014-11-10');"
   ]
  },
  {
   "cell_type": "code",
   "execution_count": 63,
   "metadata": {},
   "outputs": [
    {
     "data": {
      "image/png": "[encoded data removed]",
      "text/plain": [
       "<Figure size 640x480 with 1 Axes>"
      ]
     },
     "metadata": {},
     "output_type": "display_data"
    }
   ],
   "source": [
    "player_stat('William')"
   ]
  },
  {
   "cell_type": "code",
   "execution_count": 59,
   "metadata": {
    "colab": {
     "base_uri": "https://localhost:8080/",
     "height": 430
    },
    "id": "Ig6Zb1vnSeyO",
    "outputId": "7457534f-4cba-4db5-d63b-b5275fb86494"
   },
   "outputs": [
    {
     "data": {
      "image/png": "[encoded data removed]",
      "text/plain": [
       "<Figure size 640x480 with 1 Axes>"
      ]
     },
     "metadata": {},
     "output_type": "display_data"
    }
   ],
   "source": [
    "#Пример статистики\n",
    "import matplotlib.pyplot as plt\n",
    "import pandas as pd\n",
    "\n",
    "players = ['Player1','Player2','Player3']\n",
    "wins = [7, 2, 15]\n",
    "draws = [1, 4, 7]\n",
    "loses = [0, 10, 11]\n",
    "\n",
    "df = pd.DataFrame({'Loses': loses, 'Draws': draws, 'Wins': wins}, index=players)\n",
    "ax = df.plot.bar(rot=0)"
   ]
  },
  {
   "cell_type": "code",
   "execution_count": null,
   "metadata": {
    "id": "dy3nNKqNtjwz"
   },
   "outputs": [],
   "source": []
  }
 ],
 "metadata": {
  "colab": {
   "provenance": []
  },
  "kernelspec": {
   "display_name": "Python [conda env:base] *",
   "language": "python",
   "name": "conda-base-py"
  },
  "language_info": {
   "codemirror_mode": {
    "name": "ipython",
    "version": 3
   },
   "file_extension": ".py",
   "mimetype": "text/x-python",
   "name": "python",
   "nbconvert_exporter": "python",
   "pygments_lexer": "ipython3",
   "version": "3.12.7"
  }
 },
 "nbformat": 4,
 "nbformat_minor": 4
}
